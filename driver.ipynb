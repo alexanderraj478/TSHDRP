{
  "nbformat": 4,
  "nbformat_minor": 0,
  "metadata": {
    "colab": {
      "name": "Untitled3.ipynb",
      "provenance": [],
      "authorship_tag": "ABX9TyOOjTEH4Ajq7EtMZW/skUSo",
      "include_colab_link": true
    },
    "kernelspec": {
      "name": "python3",
      "display_name": "Python 3"
    },
    "language_info": {
      "name": "python"
    }
  },
  "cells": [
    {
      "cell_type": "markdown",
      "metadata": {
        "id": "view-in-github",
        "colab_type": "text"
      },
      "source": [
        "<a href=\"https://colab.research.google.com/github/alexanderraj478/TSHDRP/blob/master/driver.ipynb\" target=\"_parent\"><img src=\"https://colab.research.google.com/assets/colab-badge.svg\" alt=\"Open In Colab\"/></a>"
      ]
    },
    {
      "cell_type": "code",
      "metadata": {
        "id": "NupjGoPjfrHH",
        "colab": {
          "base_uri": "https://localhost:8080/"
        },
        "outputId": "3698b840-a098-43e3-84ab-31b4642e87a8"
      },
      "source": [
        "%%writefile test.py\n",
        "print(\"Hello from Collab\")\n",
        "a = 3\n",
        "print(a)"
      ],
      "execution_count": null,
      "outputs": [
        {
          "output_type": "stream",
          "text": [
            "Writing test.py\n"
          ],
          "name": "stdout"
        }
      ]
    },
    {
      "cell_type": "code",
      "metadata": {
        "id": "12Ki4FCXsLBo",
        "colab": {
          "base_uri": "https://localhost:8080/"
        },
        "outputId": "c701083c-62e6-4f7d-aa96-5d995bd63bcd"
      },
      "source": [
        "!python test.py"
      ],
      "execution_count": null,
      "outputs": [
        {
          "output_type": "stream",
          "text": [
            "Hello from Collab\n",
            "3\n"
          ],
          "name": "stdout"
        }
      ]
    },
    {
      "cell_type": "code",
      "metadata": {
        "id": "phf5Mba9sSsZ",
        "colab": {
          "base_uri": "https://localhost:8080/"
        },
        "outputId": "630036cd-5546-4279-954b-8066c11c14bb"
      },
      "source": [
        "!python /content/test.py"
      ],
      "execution_count": null,
      "outputs": [
        {
          "output_type": "stream",
          "text": [
            "Hello from Collab\n",
            "3\n"
          ],
          "name": "stdout"
        }
      ]
    },
    {
      "cell_type": "code",
      "metadata": {
        "colab": {
          "base_uri": "https://localhost:8080/"
        },
        "id": "yRpEb84A7KBH",
        "outputId": "92f41ea6-8c56-44e1-f149-e9e69d5f425d"
      },
      "source": [
        "!git clone https://github.com/alexanderraj478/TSHDRP.git"
      ],
      "execution_count": null,
      "outputs": [
        {
          "output_type": "stream",
          "text": [
            "Cloning into 'TSHDRP'...\n",
            "remote: Enumerating objects: 6, done.\u001b[K\n",
            "remote: Counting objects: 100% (6/6), done.\u001b[K\n",
            "remote: Compressing objects: 100% (5/5), done.\u001b[K\n",
            "remote: Total 6 (delta 0), reused 6 (delta 0), pack-reused 0\u001b[K\n",
            "Unpacking objects: 100% (6/6), done.\n"
          ],
          "name": "stdout"
        }
      ]
    },
    {
      "cell_type": "code",
      "metadata": {
        "colab": {
          "base_uri": "https://localhost:8080/"
        },
        "id": "-zsedAeO7v7q",
        "outputId": "299570c9-a94d-452e-d2af-f8e03c8bc7d1"
      },
      "source": [
        "!python /content/TSHDRP/HelloWorld.py"
      ],
      "execution_count": null,
      "outputs": [
        {
          "output_type": "stream",
          "text": [
            "Hello World\n"
          ],
          "name": "stdout"
        }
      ]
    },
    {
      "cell_type": "code",
      "metadata": {
        "id": "_q5Ao853ApKo",
        "colab": {
          "base_uri": "https://localhost:8080/"
        },
        "outputId": "51aada1d-a397-4f26-f6d4-8c7ce6b4c154"
      },
      "source": [
        "from google.colab import drive\n",
        "drive.mount('/content/drive')\n"
      ],
      "execution_count": 1,
      "outputs": [
        {
          "output_type": "stream",
          "text": [
            "Mounted at /content/drive\n"
          ],
          "name": "stdout"
        }
      ]
    },
    {
      "cell_type": "code",
      "metadata": {
        "colab": {
          "base_uri": "https://localhost:8080/"
        },
        "id": "oSksVK6Pig6E",
        "outputId": "e5d67211-245f-43f6-9426-215346d0beb2"
      },
      "source": [
        "!python /content/drive/MyDrive/hwNew.ipynb"
      ],
      "execution_count": 3,
      "outputs": [
        {
          "output_type": "stream",
          "text": [
            "Hello Colab - GitHub - Colab\n"
          ],
          "name": "stdout"
        }
      ]
    },
    {
      "cell_type": "code",
      "metadata": {
        "id": "SgDCCrPnEPfo",
        "outputId": "8c678511-6dc8-4523-aa3d-b8967ba737a6",
        "colab": {
          "base_uri": "https://localhost:8080/"
        }
      },
      "source": [
        "#IMPORT FILES FROM DRIVE INTO GOOGLE-COLAB:\n",
        "#STEP-1: Import Libraries\n",
        "\n",
        "# Code to read csv file into colaboratory:\n",
        "!pip install -U -q PyDrive\n",
        "from pydrive.auth import GoogleAuth\n",
        "from pydrive.drive import GoogleDrive\n",
        "from google.colab import auth\n",
        "from oauth2client.client import GoogleCredentials\n",
        "\n",
        "#STEP-2: Authenticate E-Mail ID\n",
        "\n",
        "auth.authenticate_user()\n",
        "gauth = GoogleAuth()\n",
        "gauth.credentials = GoogleCredentials.get_application_default()\n",
        "drive = GoogleDrive(gauth)\n",
        "\n",
        "#STEP-3: Get File from Drive using file-ID\n",
        "#2.1 Get the file\n",
        "downloaded = drive.CreateFile({'id':'18iB9oeKUvArK5K9YBrvxUEqh_YTiFLGT'})\n",
        "downloaded.GetContentFile('resources.csv')\n",
        "\n",
        "#STEP-4: Read File\n",
        "#3.1 Read file as panda dataframe\n",
        "import pandas as pd\n",
        "xyz = pd.read_csv('resources.csv')\n",
        "print(xyz.head(1))"
      ],
      "execution_count": 4,
      "outputs": [
        {
          "output_type": "stream",
          "text": [
            "  firstName lastName\n",
            "0      Alex      Raj\n"
          ],
          "name": "stdout"
        }
      ]
    }
  ]
}